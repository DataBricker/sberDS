{
  "cells": [
    {
      "cell_type": "code",
      "execution_count": 1,
      "metadata": {
        "id": "2TuqD5-MzlcF"
      },
      "outputs": [],
      "source": [
        "import pandas as pd\n",
        "import numpy as np\n",
        "from sklearn.compose import ColumnTransformer\n",
        "from sklearn.impute import SimpleImputer\n",
        "from sklearn.linear_model import Ridge, LinearRegression, Lasso, LogisticRegression\n",
        "from sklearn.metrics import accuracy_score, f1_score\n",
        "from sklearn.model_selection import train_test_split, GridSearchCV, cross_val_score, cross_validate\n",
        "from sklearn.pipeline import Pipeline\n",
        "from sklearn.preprocessing import StandardScaler, MinMaxScaler, PolynomialFeatures, OneHotEncoder\n",
        "from sklearn.svm import LinearSVC\n",
        "from sklearn.neighbors import KNeighborsClassifier\n",
        "from warnings import filterwarnings\n",
        "filterwarnings('ignore')\n",
        "from sklearn.ensemble import RandomForestClassifier, GradientBoostingClassifier\n",
        "rs = 42"
      ]
    },
    {
      "cell_type": "markdown",
      "metadata": {
        "id": "m-jo5sY5zlcJ"
      },
      "source": [
        "https://www.cs.toronto.edu/~delve/data/boston/bostonDetail.html"
      ]
    },
    {
      "cell_type": "code",
      "execution_count": 2,
      "metadata": {
        "colab": {
          "base_uri": "https://localhost:8080/"
        },
        "id": "Np1MiUpezlcL",
        "outputId": "15de31ce-7bde-431f-b4d1-d2d681b3a992"
      },
      "outputs": [
        {
          "output_type": "stream",
          "name": "stdout",
          "text": [
            "Cloning into 'ml_2'...\n",
            "remote: Enumerating objects: 8, done.\u001b[K\n",
            "remote: Counting objects: 100% (5/5), done.\u001b[K\n",
            "remote: Compressing objects: 100% (4/4), done.\u001b[K\n",
            "remote: Total 8 (delta 1), reused 4 (delta 1), pack-reused 3 (from 1)\u001b[K\n",
            "Receiving objects: 100% (8/8), 8.99 MiB | 7.90 MiB/s, done.\n",
            "Resolving deltas: 100% (1/1), done.\n"
          ]
        }
      ],
      "source": [
        "! git clone https://github.com/dsreload/ml_2\n",
        "data = pd.read_csv(\"ml_2/boston.csv\")\n",
        "x = data.iloc[:, :13]\n",
        "y = data.iloc[:, 13:]"
      ]
    },
    {
      "cell_type": "markdown",
      "metadata": {
        "id": "cLL_qS9szlcM"
      },
      "source": [
        "1. Разделите выборку на обучающую и тестовую в отношении 80%/20%, предварительно выделив целевую переменную (колонка 'MEDV')."
      ]
    },
    {
      "cell_type": "code",
      "execution_count": null,
      "metadata": {
        "id": "H8El5TjpzlcN"
      },
      "outputs": [],
      "source": [
        "x_train, x_test, y_train, y_test = train_test_split(x, y, test_size=0.2)"
      ]
    },
    {
      "cell_type": "markdown",
      "metadata": {
        "id": "HZCyS66OzlcO"
      },
      "source": [
        "2. Обучите стандартную регрессию, а также Ridge и  Lasso с параметрами по умолчанию и выведите их R2 на тестовой выборке"
      ]
    },
    {
      "cell_type": "code",
      "execution_count": null,
      "metadata": {
        "colab": {
          "base_uri": "https://localhost:8080/"
        },
        "id": "WjNJzpBHzlcP",
        "outputId": "f7089e78-02de-4cd4-bb05-104c22b6e437"
      },
      "outputs": [
        {
          "name": "stdout",
          "output_type": "stream",
          "text": [
            "LinearRegression R^2: 0.7013157225661428\n",
            "Ridge R^2: 0.6972742919686512\n",
            "Lasso R^2: 0.6208389302645347\n"
          ]
        }
      ],
      "source": [
        "for model in [LinearRegression(), Ridge(random_state=rs), Lasso(random_state=rs)]:\n",
        "    fit_model = model.fit(x_train, y_train)\n",
        "    print(type(model).__name__,\"R^2:\", model.score(x_test, y_test))"
      ]
    },
    {
      "cell_type": "markdown",
      "metadata": {
        "id": "ovqdTRihzlcQ"
      },
      "source": [
        "3. Для Ridge и Lasso подберите коэффициент регуляризации двумя способами 1) GridSearchCV, 2) RidgeCV и LassoCV, в пределах от $10^{-5}$ до $10^5$ (по степеням 10). Посчитайте R2 на тестовой выборке по всем моделям и сравните с предыдущими результатами."
      ]
    },
    {
      "cell_type": "code",
      "execution_count": null,
      "metadata": {
        "colab": {
          "base_uri": "https://localhost:8080/"
        },
        "id": "IfO--dUbzlcR",
        "outputId": "aec0e063-a666-46a4-ad97-ab553ff00985"
      },
      "outputs": [
        {
          "name": "stdout",
          "output_type": "stream",
          "text": [
            "Ridge GridSearchCV best params: {'alpha': 0.1} R^2: 0.701077526427967\n",
            "Lasso GridSearchCV best params: {'alpha': 0.001} R^2: 0.701156769515765\n"
          ]
        }
      ],
      "source": [
        "for model in [Ridge(random_state=rs), Lasso(random_state=rs)]:\n",
        "    params = {'alpha': [10**x for x in range(-5, 6)]}\n",
        "    grid = GridSearchCV(model, params, scoring='r2')\n",
        "    fit_model = grid.fit(x_train, y_train)\n",
        "    print(type(model).__name__, \"GridSearchCV best params:\",\n",
        "          grid.best_params_,\"R^2:\", fit_model.score(x_test, y_test)) # R^2 увеличился для обоих"
      ]
    },
    {
      "cell_type": "markdown",
      "metadata": {
        "id": "UkQjVG4szlcS"
      },
      "source": [
        "4. Проведите масштабирование выборки (используйте Pipeline, StandardScaler, MinMaxScaler), посчитайте R2 для Ridge и Lasso с параметрами по умолчанию и сравните с предыдущими результатами."
      ]
    },
    {
      "cell_type": "code",
      "execution_count": null,
      "metadata": {
        "colab": {
          "base_uri": "https://localhost:8080/"
        },
        "id": "jwFdaUMlzlcS",
        "outputId": "0740f1b4-138d-4a77-83e6-f5e02fb0c5c0"
      },
      "outputs": [
        {
          "name": "stdout",
          "output_type": "stream",
          "text": [
            "Ridge with Standard Scaler R^2: 0.7013381968936976\n",
            "Ridge with Min Max Scaler R^2: 0.6905583182401169\n",
            "Lasso with Standard Scaler R^2: 0.6262192825686278\n",
            "Lasso with Min Max Scaler R^2: 0.18006988418558134\n"
          ]
        }
      ],
      "source": [
        "pipe_rs = Pipeline([('std_scaler', StandardScaler()), ('clf', Ridge(random_state=rs))])\n",
        "pipe_rm = Pipeline([('mm_scaler',  MinMaxScaler()),   ('clf', Ridge(random_state=rs))])\n",
        "pipe_ls = Pipeline([('std_scaler', StandardScaler()), ('clf', Lasso(random_state=rs))])\n",
        "pipe_lm = Pipeline([('mm_scaler',  MinMaxScaler()),   ('clf', Lasso(random_state=rs))])\n",
        "pipes = [{'name': 'Ridge with Standard Scaler', 'clf': pipe_rs}, {'name': 'Ridge with Min Max Scaler',  'clf': pipe_rm},\n",
        "          {'name': 'Lasso with Standard Scaler', 'clf': pipe_ls}, {'name': 'Lasso with Min Max Scaler',  'clf': pipe_lm}]\n",
        "for pipe in pipes:\n",
        "    pipe['clf'].fit(x_train, y_train)\n",
        "    print(pipe['name'],\"R^2:\", pipe['clf'].score(x_test, y_test)) # R^2 увеличился для Ridge и уменьшился для Lasso"
      ]
    },
    {
      "cell_type": "markdown",
      "metadata": {
        "id": "Frp8dgdnzlcT"
      },
      "source": [
        "5. Подберите коэффициент регуляризации для Ridge и Lasso на масштабированных данных, посчитайте R2 и сравните с предыдущими результатами."
      ]
    },
    {
      "cell_type": "code",
      "execution_count": null,
      "metadata": {
        "colab": {
          "base_uri": "https://localhost:8080/"
        },
        "id": "hSAoqOlbzlcT",
        "outputId": "833188dd-8e8d-4f3e-f9be-d0182737ed4f"
      },
      "outputs": [
        {
          "name": "stdout",
          "output_type": "stream",
          "text": [
            "Ridge with Standard Scaler {'classifier__alpha': 10} R^2: 0.6998123494501569\n",
            "Ridge with Min Max Scaler {'classifier__alpha': 0.1} R^2: 0.7005748964221841\n",
            "Lasso with Standard Scaler {'classifier__alpha': 0.01} R^2: 0.7015446500012794\n",
            "Lasso with Min Max Scaler {'classifier__alpha': 0.01} R^2: 0.7013247320003582\n"
          ]
        }
      ],
      "source": [
        "params = {'alpha': [10**x for x in range(-5, 6)]}\n",
        "clfs = [('Ridge', Ridge(random_state=rs), params), ('Lasso', Lasso(random_state=rs), params)]\n",
        "for clfer, clf, grid in clfs:\n",
        "    pipes = [('Standard Scaler', Pipeline(steps=[('scaler', StandardScaler()),('classifier', clf)])), ('Min Max Scaler',  Pipeline(steps=[('scaler', MinMaxScaler()),('classifier', clf)]))]\n",
        "    for scaler, pipe in pipes:\n",
        "        search = GridSearchCV(pipe, {f'classifier__{name}': value for name, value in grid.items()}, scoring='r2')\n",
        "        search.fit(x_train, y_train)\n",
        "        print(f\"{clfer} with {scaler} {search.best_params_} R^2:\", search.score(x_test, y_test)) # R^2 увеличился значительно для Lasso, для Ridge почти без изменений"
      ]
    },
    {
      "cell_type": "markdown",
      "metadata": {
        "id": "MOSZH9B2zlcT"
      },
      "source": [
        "6. Добавьте попарные произведения признаков и их квадраты (используйте PolynomialFeatures) на масштабированных признаках, посчитайте R2 для Ridge и Lasso с параметрами по умолчанию и сравните с предыдущими результатами."
      ]
    },
    {
      "cell_type": "code",
      "execution_count": null,
      "metadata": {
        "colab": {
          "base_uri": "https://localhost:8080/"
        },
        "id": "5pzqufIMzlcU",
        "outputId": "fcd2209c-ed5b-4982-e2ca-64c132bda31c"
      },
      "outputs": [
        {
          "name": "stdout",
          "output_type": "stream",
          "text": [
            "Linear regression  Standard Scaler score:  0.8010149918626801\n",
            "Linear regression  Min Max Scaler score:  0.8010149918626781\n",
            "Ridge  Standard Scaler score:  0.8166223235708723\n",
            "Ridge  Min Max Scaler score:  0.7940324407262243\n",
            "Lasso  Standard Scaler score:  0.7248472388773134\n",
            "Lasso  Min Max Scaler score:  0.16546969049186844\n"
          ]
        }
      ],
      "source": [
        "clfs = [('Linear regression', LinearRegression()),('Ridge', Ridge(random_state=rs)), ('Lasso', Lasso(random_state=rs))]\n",
        "for clf_name, clf in clfs:\n",
        "    pipes = [('Standard Scaler', Pipeline(steps=[('Scaler', StandardScaler()),('PolynomialFeatures', PolynomialFeatures()),('Classifier', clf)])),\n",
        "            ('Min Max Scaler', Pipeline(steps=[('Scaler', MinMaxScaler()),('PolynomialFeatures', PolynomialFeatures()),('Classifier', clf)]))]\n",
        "    for pipe_name, pipe in pipes:\n",
        "        pipe.fit(x_train, y_train)\n",
        "        print(f\"{clf_name}  {pipe_name} score: \", pipe.score(x_test, y_test)) # R^2 значительно увеличилcя за исключением Lasso с MinMaxScaler"
      ]
    },
    {
      "cell_type": "markdown",
      "metadata": {
        "id": "UFqSxB17zlcU"
      },
      "source": [
        "7. Подберите коэффициент регуляризации для Ridge и Lasso на масштабированных данных, добавив PolynomialFeatures, посчитайте R2 и сравните с предыдущими результатами."
      ]
    },
    {
      "cell_type": "code",
      "execution_count": null,
      "metadata": {
        "colab": {
          "base_uri": "https://localhost:8080/"
        },
        "id": "2itZiXIczlcU",
        "outputId": "fefdf57e-c7bd-476b-d944-c9f376e4a560"
      },
      "outputs": [
        {
          "name": "stdout",
          "output_type": "stream",
          "text": [
            "{'clf': Ridge(random_state=42), 'clf__alpha': 10, 'scaler': StandardScaler()} 0.8132662283409828\n"
          ]
        }
      ],
      "source": [
        "pipe = Pipeline(steps=[('scaler', 'passthrough'),('poly', PolynomialFeatures()),('clf', 'passthrough')])\n",
        "\n",
        "params = [{'scaler': [StandardScaler(), MinMaxScaler()],\n",
        "           'clf': [Ridge(random_state=rs), Lasso(random_state=rs)],'clf__alpha': [10**x for x in range(-5, 6)]}]\n",
        "\n",
        "search = GridSearchCV(pipe, params, scoring='r2', n_jobs=-1)\n",
        "search.fit(x_train, y_train)\n",
        "print(search.best_params_, search.score(x_test, y_test)) # R^2 незначительно увеличилcя для Ridge"
      ]
    },
    {
      "cell_type": "markdown",
      "metadata": {
        "id": "QiYwDAPSzlcV"
      },
      "source": [
        "8. Подберите наилучшую модель (используйте Pipeline, GridSearchSCV) подбирая тип регуляризации (L1,L2), коэффициент регуляризации, метод масштабирования и степень полинома в PolynomialFeatures. Выведите итоговые параметры и результат R2."
      ]
    },
    {
      "cell_type": "code",
      "execution_count": null,
      "metadata": {
        "colab": {
          "base_uri": "https://localhost:8080/"
        },
        "id": "cDP9vAEYzlcV",
        "outputId": "6a1d9cc6-459d-4cfc-8961-de440b74dd4e"
      },
      "outputs": [
        {
          "name": "stdout",
          "output_type": "stream",
          "text": [
            "{'clf': Ridge(random_state=42), 'clf__alpha': 10, 'poly__degree': 2, 'scaler': StandardScaler()} 0.8132662283409828\n"
          ]
        }
      ],
      "source": [
        "pipe = Pipeline(steps=[('scaler', 'passthrough'),('poly', PolynomialFeatures()),('clf', 'passthrough')])\n",
        "\n",
        "params = [{'scaler': [StandardScaler(), MinMaxScaler()],'poly__degree': [i for i in range(1, 6)],\n",
        "           'clf': [Ridge(random_state=rs), Lasso(random_state=rs, max_iter=10000, tol=0.035)],'clf__alpha': [10**x for x in range(-5, 6)]}]\n",
        "\n",
        "search = GridSearchCV(pipe, params, scoring='r2', n_jobs=-1)\n",
        "search.fit(x_train, y_train)\n",
        "print(search.best_params_, search.score(x_test, y_test))"
      ]
    },
    {
      "cell_type": "markdown",
      "metadata": {
        "id": "YOte3SRvzlcW"
      },
      "source": [
        "http://archive.ics.uci.edu/ml/datasets/Adult"
      ]
    },
    {
      "cell_type": "code",
      "execution_count": 3,
      "metadata": {
        "id": "S14jmmUzzlcX"
      },
      "outputs": [],
      "source": [
        "data = pd.read_csv('ml_2/adult.csv', header=None)"
      ]
    },
    {
      "cell_type": "markdown",
      "metadata": {
        "id": "ryc9cKo0zlcX"
      },
      "source": [
        "9. Разделите выборку на признаки и целевую переменную(колонка class). Замените целевую переменную на числовые значения ('<=50K' - 1, '>50K' - 0)."
      ]
    },
    {
      "cell_type": "code",
      "execution_count": 4,
      "metadata": {
        "id": "iL8R96x3zlcX"
      },
      "outputs": [],
      "source": [
        "x = data.loc[:,:13].iloc[1:]\n",
        "y = data[14].map({'<=50K': 0, '>50K': 1}).iloc[1:]"
      ]
    },
    {
      "cell_type": "markdown",
      "metadata": {
        "id": "MlI7dTwTzlcX"
      },
      "source": [
        "10. Посчитайте метрики accuracy и f1_score на предсказании только самого частого класса в целевой переменной."
      ]
    },
    {
      "cell_type": "code",
      "execution_count": null,
      "metadata": {
        "colab": {
          "base_uri": "https://localhost:8080/",
          "height": 198
        },
        "id": "RMdXGhqizlcX",
        "outputId": "99c4d86d-854b-41a1-ccb4-512f3f4f38c6"
      },
      "outputs": [
        {
          "data": {
            "text/html": [
              "<div>\n",
              "<style scoped>\n",
              "    .dataframe tbody tr th:only-of-type {\n",
              "        vertical-align: middle;\n",
              "    }\n",
              "\n",
              "    .dataframe tbody tr th {\n",
              "        vertical-align: top;\n",
              "    }\n",
              "\n",
              "    .dataframe thead th {\n",
              "        text-align: right;\n",
              "    }\n",
              "</style>\n",
              "<table border=\"1\" class=\"dataframe\">\n",
              "  <thead>\n",
              "    <tr style=\"text-align: right;\">\n",
              "      <th></th>\n",
              "      <th>count</th>\n",
              "    </tr>\n",
              "    <tr>\n",
              "      <th>14</th>\n",
              "      <th></th>\n",
              "    </tr>\n",
              "  </thead>\n",
              "  <tbody>\n",
              "    <tr>\n",
              "      <th>0.0</th>\n",
              "      <td>37155</td>\n",
              "    </tr>\n",
              "    <tr>\n",
              "      <th>1.0</th>\n",
              "      <td>11687</td>\n",
              "    </tr>\n",
              "  </tbody>\n",
              "</table>\n",
              "</div><br><label><b>dtype:</b> int64</label>"
            ],
            "text/plain": [
              "14\n",
              "0.0    37155\n",
              "1.0    11687\n",
              "Name: count, dtype: int64"
            ]
          },
          "execution_count": 6,
          "metadata": {},
          "output_type": "execute_result"
        }
      ],
      "source": [
        "y.value_counts()"
      ]
    },
    {
      "cell_type": "code",
      "execution_count": null,
      "metadata": {
        "colab": {
          "base_uri": "https://localhost:8080/"
        },
        "id": "T_gLtZHYS-H4",
        "outputId": "f4af0d95-f1b4-4be0-b06a-ec6d208fb096"
      },
      "outputs": [
        {
          "name": "stdout",
          "output_type": "stream",
          "text": [
            "Accuracy: 0.7607182343065395\n",
            "F1-score: 0.0\n"
          ]
        }
      ],
      "source": [
        "print(f'Accuracy: {accuracy_score(y, np.array([0 for _ in range(len(y))]))}')\n",
        "print(f'F1-score: {f1_score(y, np.array([0 for _ in range(len(y))]))}')"
      ]
    },
    {
      "cell_type": "markdown",
      "metadata": {
        "id": "Mr_m8sqlzlcY"
      },
      "source": [
        "11. Выясните, присутствуют ли в данных пропуски. Если присутствуют, заполните их самыми частыми значениями (испольуйте SimpleImputer)"
      ]
    },
    {
      "cell_type": "code",
      "execution_count": null,
      "metadata": {
        "colab": {
          "base_uri": "https://localhost:8080/"
        },
        "id": "ykACkAwVzlcY",
        "outputId": "8f6618b3-20f9-4405-c262-0e8ad3f6f697"
      },
      "outputs": [
        {
          "name": "stdout",
          "output_type": "stream",
          "text": [
            "<class 'pandas.core.frame.DataFrame'>\n",
            "RangeIndex: 48842 entries, 1 to 48842\n",
            "Data columns (total 13 columns):\n",
            " #   Column  Non-Null Count  Dtype \n",
            "---  ------  --------------  ----- \n",
            " 0   0       48842 non-null  object\n",
            " 1   1       48842 non-null  object\n",
            " 2   2       48842 non-null  object\n",
            " 3   3       48842 non-null  object\n",
            " 4   4       48842 non-null  object\n",
            " 5   5       48842 non-null  object\n",
            " 6   6       48842 non-null  object\n",
            " 7   7       48842 non-null  object\n",
            " 8   8       48842 non-null  object\n",
            " 9   9       48842 non-null  object\n",
            " 10  10      48842 non-null  object\n",
            " 11  11      48842 non-null  object\n",
            " 12  12      48842 non-null  object\n",
            "dtypes: object(13)\n",
            "memory usage: 4.8+ MB\n"
          ]
        }
      ],
      "source": [
        "x.info() # пропусков не обнаружено"
      ]
    },
    {
      "cell_type": "markdown",
      "metadata": {
        "id": "EUodHaejzlcY"
      },
      "source": [
        "12. Выберите колонки с числовыми и категориальными переменными (используя возможности pandas)."
      ]
    },
    {
      "cell_type": "code",
      "execution_count": 5,
      "metadata": {
        "id": "VVBjBFguzlcY"
      },
      "outputs": [],
      "source": [
        "x_nums = x.select_dtypes(include=['int64']).columns.tolist()\n",
        "x_cats = x.select_dtypes(include=['object']).columns.tolist()\n",
        "ct = ColumnTransformer([('scale',  MinMaxScaler(), x_nums),('onehot', OneHotEncoder(handle_unknown='ignore'),  x_cats)])\n",
        "clfs = {'Logistic Regression': LogisticRegression(random_state=rs),'KNeighborsClassifier': KNeighborsClassifier(),'Linear SVC': LinearSVC(random_state=rs)}"
      ]
    },
    {
      "cell_type": "markdown",
      "metadata": {
        "id": "jogoD5JHzlcZ"
      },
      "source": [
        "13. Создайте пайплайн по обработке числовых и категориальных значений колонок (используйте OneHotEncoder,MinMaxScaler) и посчитайте cross_val_score по алгоритмам LogisticRegression, KNeighborsClassifier, LinearSVC по метрикам accuracy и f1_score."
      ]
    },
    {
      "cell_type": "code",
      "execution_count": null,
      "metadata": {
        "colab": {
          "base_uri": "https://localhost:8080/"
        },
        "id": "82l7EMpGzlcZ",
        "outputId": "8672f632-461b-4d23-e87d-cf7756d2114c"
      },
      "outputs": [
        {
          "name": "stdout",
          "output_type": "stream",
          "text": [
            "Logistic Regression\n",
            "Accuracy: 0.8608370621805979\n",
            "F1-score: 0.6805879516575764\n",
            "\n",
            "KNeighborsClassifier\n",
            "Accuracy: 0.8235739082217739\n",
            "F1-score: 0.5984111329448487\n",
            "\n",
            "Linear SVC\n",
            "Accuracy: 0.8445600915966358\n",
            "F1-score: 0.6568239367128303\n",
            "\n"
          ]
        }
      ],
      "source": [
        "for clf_name, clf in clfs.items():\n",
        "    result = cross_validate(estimator=Pipeline(steps=[('prepare_columns', ct),('classifier', clf)]),X=x, y=y, cv=5,scoring = ['accuracy', 'f1'], error_score=\"raise\")\n",
        "    print(clf_name)\n",
        "    print(f\"Accuracy: {np.mean(result['test_accuracy'])}\")\n",
        "    print(f\"F1-score: {np.mean(result['test_f1'])}\\n\")"
      ]
    },
    {
      "cell_type": "markdown",
      "metadata": {
        "id": "ttXAfuZtzlcZ"
      },
      "source": [
        "14. Можно заметить что в данных присутствуют значения '?', замените их самыми частыми значениями, (испольуйте SimpleImputer). Посчитайте cross_val_score по алгоритмам LogisticRegression, KNeighborsClassifier, LinearSVC по метрикам accuracy и f1_score."
      ]
    },
    {
      "cell_type": "code",
      "execution_count": null,
      "metadata": {
        "colab": {
          "base_uri": "https://localhost:8080/"
        },
        "id": "QCATEFV8zlcZ",
        "outputId": "86383b5a-e6ac-4922-dad3-98d1c503fd64"
      },
      "outputs": [
        {
          "name": "stdout",
          "output_type": "stream",
          "text": [
            "Logistic Regression\n",
            "Accuracy: 0.8602228220459359\n",
            "F1-score: 0.678167426230144\n",
            "\n",
            "KNeighborsClassifier\n",
            "Accuracy: 0.8233077455311053\n",
            "F1-score: 0.5983947385898493\n",
            "\n",
            "Linear SVC\n",
            "Accuracy: 0.8434954198747832\n",
            "F1-score: 0.6537475652226427\n",
            "\n"
          ]
        }
      ],
      "source": [
        "fill_missing = SimpleImputer(missing_values='?', strategy='most_frequent')\n",
        "for clf_name, clf in clfs.items():\n",
        "    result = cross_validate(estimator=Pipeline(steps=[('fill_missing', fill_missing),('prepare_columns', ct),('classifier', clf)]),\n",
        "        X=x, y=y, cv=5,scoring = ['accuracy', 'f1'])\n",
        "    print(clf_name)\n",
        "    print(f\"Accuracy: {np.mean(result['test_accuracy'])}\")\n",
        "    print(f\"F1-score: {np.mean(result['test_f1'])}\\n\")"
      ]
    },
    {
      "cell_type": "markdown",
      "metadata": {
        "id": "p3wQ7mtCzlca"
      },
      "source": [
        "15. Посчитайте cross_val_score по тем же алгоритмам и метрикам, если просто удалить значения '?'."
      ]
    },
    {
      "cell_type": "code",
      "execution_count": null,
      "metadata": {
        "colab": {
          "base_uri": "https://localhost:8080/"
        },
        "id": "w8XkVncrzlca",
        "outputId": "879334a5-50e0-4997-ade8-5c06e21bc0a8"
      },
      "outputs": [
        {
          "name": "stdout",
          "output_type": "stream",
          "text": [
            "Logistic Regression\n",
            "Accuracy: 0.8566406822832127\n",
            "F1-score: 0.6838057293158559\n",
            "\n",
            "KNeighborsClassifier\n",
            "Accuracy: 0.8205297068639797\n",
            "F1-score: 0.6057083268824883\n",
            "\n",
            "Linear SVC\n",
            "Accuracy: 0.8400557779190929\n",
            "F1-score: 0.6605496132055083\n",
            "\n"
          ]
        }
      ],
      "source": [
        "data_drop = data.replace({'?': None}).dropna()\n",
        "x_drop = data_drop.loc[:,:13].iloc[1:]\n",
        "y_drop = data_drop[14].map({'<=50K': 0, '>50K': 1}).iloc[1:]\n",
        "\n",
        "for clf_name, clf in clfs.items():\n",
        "    result = cross_validate(estimator=Pipeline(steps=[('prepare_columns', ct),('classifier', clf)]),X=x_drop, y=y_drop, cv=5,scoring = ['accuracy', 'f1'])\n",
        "    print(clf_name)\n",
        "    print(f\"Accuracy: {np.mean(result['test_accuracy'])}\")\n",
        "    print(f\"F1-score: {np.mean(result['test_f1'])}\\n\")"
      ]
    },
    {
      "cell_type": "markdown",
      "metadata": {
        "id": "zok8gjD6zlca"
      },
      "source": [
        " 16. Посчитайте cross_val_score для RandomForestClassifier,GradientBoostingClassifier на данных с замененными значениями '?' на самые частые значения."
      ]
    },
    {
      "cell_type": "code",
      "execution_count": null,
      "metadata": {
        "colab": {
          "base_uri": "https://localhost:8080/"
        },
        "id": "mH03_quVzlcb",
        "outputId": "7b153e68-0e7a-498d-b6a7-6a35bde4b68a"
      },
      "outputs": [
        {
          "name": "stdout",
          "output_type": "stream",
          "text": [
            "Random Forest Classifier\n",
            "Accuracy: 0.8477744602194391\n",
            "F1-score: 0.6374102565293243\n",
            "\n",
            "Gradient Boosting Classifier\n",
            "Accuracy: 0.8527702352684438\n",
            "F1-score: 0.6431765543110323\n",
            "\n"
          ]
        }
      ],
      "source": [
        "ensembles = {'Random Forest Classifier': RandomForestClassifier(random_state=rs),'Gradient Boosting Classifier': GradientBoostingClassifier(random_state=rs)}\n",
        "for clf_name, clf in ensembles.items():\n",
        "    result = cross_validate(estimator=Pipeline(steps=[('prepare_columns', ct),('classifier', clf)]),X=x, y=y, cv=5,scoring = ['accuracy', 'f1'])\n",
        "    print(clf_name)\n",
        "    print(f\"Accuracy: {np.mean(result['test_accuracy'])}\")\n",
        "    print(f\"F1-score: {np.mean(result['test_f1'])}\\n\")"
      ]
    },
    {
      "cell_type": "markdown",
      "metadata": {
        "id": "EZiE4ZCDzlcb"
      },
      "source": [
        "17. Подберите наилучшую модель, подбирая методы обработки колонок - масштабирование признаков, кодирование признаков и заполнение пропусков. Параметры алгоритмов оставьте по умолчанию. Выведите итоговые параметры и результат accuracy и f1_score."
      ]
    },
    {
      "cell_type": "code",
      "execution_count": 6,
      "metadata": {
        "colab": {
          "base_uri": "https://localhost:8080/"
        },
        "id": "fbkslAkCzlcb",
        "outputId": "31b9858d-b7d8-445e-e7bd-c73d9921448a"
      },
      "outputs": [
        {
          "output_type": "stream",
          "name": "stdout",
          "text": [
            "{'clf': LogisticRegression(random_state=42), 'prepare_columns': ColumnTransformer(transformers=[('scale', MinMaxScaler(), []),\n",
            "                                ('onehot',\n",
            "                                 OneHotEncoder(handle_unknown='ignore'),\n",
            "                                 [0, 1, 2, 3, 4, 5, 6, 7, 8, 9, 10, 11, 12,\n",
            "                                  13])])}\n"
          ]
        }
      ],
      "source": [
        "ct_0 = ColumnTransformer([('onehot', OneHotEncoder(),  x_cats)])\n",
        "\n",
        "ct_1 = ColumnTransformer([('scale',  MinMaxScaler(), x_nums),('onehot', OneHotEncoder(handle_unknown='ignore'),  x_cats)])\n",
        "\n",
        "ct_2 = ColumnTransformer([('scale',  StandardScaler(), x_nums),('onehot', OneHotEncoder(handle_unknown='ignore'),  x_cats)])\n",
        "\n",
        "pipe = Pipeline(steps=[('fill_missing', SimpleImputer(missing_values='?', strategy='most_frequent')),('prepare_columns', 'passthrough'),('clf', 'passthrough')])\n",
        "\n",
        "params = [{'prepare_columns': [ct_1, ct_2],\n",
        "          'clf': [RandomForestClassifier(random_state=rs),GradientBoostingClassifier(random_state=rs),\n",
        "                    LogisticRegression(random_state=rs),LinearSVC(random_state=rs)]}]\n",
        "\n",
        "search = GridSearchCV(pipe, params, scoring=['accuracy', 'f1'], refit='f1', n_jobs=-1)\n",
        "search.fit(x, y)\n",
        "print(search.best_params_)"
      ]
    },
    {
      "cell_type": "code",
      "execution_count": 9,
      "metadata": {
        "id": "dg8LcE33zlcb",
        "colab": {
          "base_uri": "https://localhost:8080/"
        },
        "outputId": "50ff3959-8e75-496f-f752-07fc18d4d4f4"
      },
      "outputs": [
        {
          "output_type": "execute_result",
          "data": {
            "text/plain": [
              "0.7011781205746347"
            ]
          },
          "metadata": {},
          "execution_count": 9
        }
      ],
      "source": [
        "search.best_score_"
      ]
    }
  ],
  "metadata": {
    "colab": {
      "provenance": []
    },
    "kernelspec": {
      "display_name": "Python 3",
      "language": "python",
      "name": "python3"
    },
    "language_info": {
      "codemirror_mode": {
        "name": "ipython",
        "version": 3
      },
      "file_extension": ".py",
      "mimetype": "text/x-python",
      "name": "python",
      "nbconvert_exporter": "python",
      "pygments_lexer": "ipython3",
      "version": "3.11.6"
    }
  },
  "nbformat": 4,
  "nbformat_minor": 0
}