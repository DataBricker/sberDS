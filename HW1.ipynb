{
  "nbformat": 4,
  "nbformat_minor": 0,
  "metadata": {
    "colab": {
      "provenance": []
    },
    "kernelspec": {
      "name": "python3",
      "display_name": "Python 3"
    },
    "language_info": {
      "name": "python"
    }
  },
  "cells": [
    {
      "cell_type": "code",
      "execution_count": 16,
      "metadata": {
        "id": "JNYqw-G4J4Tq"
      },
      "outputs": [],
      "source": [
        "import pandas as pd\n",
        "pd.set_option('display.max_columns', None)\n",
        "import matplotlib.pyplot as plt\n",
        "import numpy as np\n",
        "import sqlite3\n",
        "import seaborn as sns\n",
        "import plotly.express as px\n",
        "%matplotlib inline\n",
        "from pylab import rcParams\n",
        "from IPython.core.interactiveshell import InteractiveShell\n",
        "InteractiveShell.ast_node_interactivity = \"all\""
      ]
    },
    {
      "cell_type": "code",
      "source": [
        "! git clone https://github.com/4vel/python-intro.git"
      ],
      "metadata": {
        "colab": {
          "base_uri": "https://localhost:8080/"
        },
        "id": "6xzSPyY0L0Hh",
        "outputId": "9257ed12-cf4d-47fe-9863-4ab8c24057ae"
      },
      "execution_count": 4,
      "outputs": [
        {
          "output_type": "stream",
          "name": "stdout",
          "text": [
            "Cloning into 'python-intro'...\n",
            "remote: Enumerating objects: 105, done.\u001b[K\n",
            "remote: Counting objects: 100% (105/105), done.\u001b[K\n",
            "remote: Compressing objects: 100% (71/71), done.\u001b[K\n",
            "remote: Total 105 (delta 37), reused 95 (delta 27), pack-reused 0\u001b[K\n",
            "Receiving objects: 100% (105/105), 24.14 MiB | 18.80 MiB/s, done.\n",
            "Resolving deltas: 100% (37/37), done.\n"
          ]
        }
      ]
    },
    {
      "cell_type": "code",
      "source": [
        "data = pd.read_pickle(\"python-intro/Hometask/df_nashdomrf.pkl\")"
      ],
      "metadata": {
        "id": "ze5bojS5NpJq"
      },
      "execution_count": 5,
      "outputs": []
    },
    {
      "cell_type": "code",
      "source": [
        "data.shape"
      ],
      "metadata": {
        "colab": {
          "base_uri": "https://localhost:8080/"
        },
        "id": "dCQgKbOGOCG5",
        "outputId": "348f8c17-ac58-4715-c333-e555f112c4e0"
      },
      "execution_count": 6,
      "outputs": [
        {
          "output_type": "execute_result",
          "data": {
            "text/plain": [
              "(11714, 110)"
            ]
          },
          "metadata": {},
          "execution_count": 6
        }
      ]
    },
    {
      "cell_type": "code",
      "source": [
        "data.to_excel('dom.xlsx', index=False)\n",
        "data.to_pickle('dom.pkl')"
      ],
      "metadata": {
        "id": "O3mL9Y_aODFi"
      },
      "execution_count": 7,
      "outputs": []
    },
    {
      "cell_type": "code",
      "source": [
        "conn = sqlite3.connect('db')\n",
        "data.applymap(str).to_sql('dom', conn, if_exists='replace', index = False)\n",
        "conn.commit()\n",
        "conn.close()"
      ],
      "metadata": {
        "id": "CSTXQv7nTs7T",
        "colab": {
          "base_uri": "https://localhost:8080/"
        },
        "outputId": "45badb1a-e46e-4c8c-9dea-7f2082d9c38c"
      },
      "execution_count": 71,
      "outputs": [
        {
          "output_type": "execute_result",
          "data": {
            "text/plain": [
              "11714"
            ]
          },
          "metadata": {},
          "execution_count": 71
        }
      ]
    },
    {
      "cell_type": "code",
      "source": [
        "df = data[(data['region'] == 77) | (data['region'] == 23)] # 23 - Краснодарский край, 77 - Москва\n",
        "df['ready_dt'] = pd.to_datetime(df.objReady100PercDt)\n",
        "df = df.drop(['developer.devId','developer.devShortCleanNm','developer.devShortNm','developer.devFullCleanNm','developer.problObjCnt','developer.buildObjCnt','developer.comissObjCnt','developer.regRegionDesc','developer.devPhoneNum','developer.devSite','developer.devEmail','developer.devInn','developer.devOgrn','developer.devKpp','developer.devLegalAddr','developer.devFactAddr','developer.lastRpdId','developer.fundGuarantyFlg','developer.devOrgRegRegionCd','developer.devEmplMainFullNm','developer.developerGroupName','developer.orgForm.id','developer.orgForm.fullForm','developer.orgForm.shortForm','developer.companyGroupId','developer.objGuarantyEscrowFlg',\n",
        "         'developer.govFundFlg', 'objReady100PercDt', 'loadDttm', 'address', 'rpdPdfLink', 'objectTransportInfo', 'miniUrl', 'rpdNum', 'photoRenderDTO', 'generalContractorNm', 'nameObj', 'objLkLatitude', 'objLkSaleDepEmail', 'objLkLongitude', 'developer.bankruptStage.bankruptStageCd', 'developer.bankruptStage.bankruptStageDesc', 'developer.bankruptStage.bankruptLawUrl', 'developer.orgBankruptMsgDttm', 'metro.id', 'metro.name', 'metro.line', 'metro.color', 'metro.time', 'metro.isWalk', 'metro.colors', 'complexShortNm'], axis=1)\n",
        "\n",
        "df['ready_year'] = pd.to_datetime(df['ready_dt']).dt.strftime('%Y')"
      ],
      "metadata": {
        "colab": {
          "base_uri": "https://localhost:8080/"
        },
        "id": "z2dlX_s3JEww",
        "outputId": "6fdc7c73-d60b-497b-a9af-e873c494315d"
      },
      "execution_count": 74,
      "outputs": [
        {
          "output_type": "stream",
          "name": "stderr",
          "text": [
            "<ipython-input-74-8164834311c9>:2: SettingWithCopyWarning:\n",
            "\n",
            "\n",
            "A value is trying to be set on a copy of a slice from a DataFrame.\n",
            "Try using .loc[row_indexer,col_indexer] = value instead\n",
            "\n",
            "See the caveats in the documentation: https://pandas.pydata.org/pandas-docs/stable/user_guide/indexing.html#returning-a-view-versus-a-copy\n",
            "\n"
          ]
        }
      ]
    },
    {
      "cell_type": "code",
      "source": [
        "df.head()"
      ],
      "metadata": {
        "id": "geP3vMQyzYbY",
        "colab": {
          "base_uri": "https://localhost:8080/",
          "height": 313
        },
        "outputId": "24a617fc-92a0-43d4-9ad4-8d101fa6f797"
      },
      "execution_count": 92,
      "outputs": [
        {
          "output_type": "execute_result",
          "data": {
            "text/plain": [
              "       id  hobjId    pdId  region  floorMin  floorMax  objElemLivingCnt  \\\n",
              "17  45249  125859  530733      77         2        23                 0   \n",
              "26  35324  115219  290662      23        17        17               114   \n",
              "27  41621  122145  472265      23        17        17                64   \n",
              "28  41619  122147  472265      23        14        14               120   \n",
              "29  41620  122146  472265      23        14        14                96   \n",
              "\n",
              "   wallMaterialShortDesc objLkFinishTypeDesc objLkFreePlanDesc  \\\n",
              "17        Монолит-кирпич            Под ключ               Нет   \n",
              "26        Монолит-кирпич         Без отделки               Нет   \n",
              "27        Монолит-кирпич        Под чистовую               Нет   \n",
              "28        Монолит-кирпич        Под чистовую               Нет   \n",
              "29        Монолит-кирпич        Под чистовую               Нет   \n",
              "\n",
              "    objElemParkingCnt  objSquareLiving      rpdIssueDttm  objCompensFundFlg  \\\n",
              "17                389             0.00  08-11-2023 14:55                  0   \n",
              "26                  0          6343.20  10-08-2023 14:15                  0   \n",
              "27                  0          4032.00  06-12-2023 10:01                  0   \n",
              "28                  0          5472.48  06-12-2023 10:01                  0   \n",
              "29                  0          6048.00  06-12-2023 10:01                  0   \n",
              "\n",
              "    objProblemFlg objLkClassDesc  objGuarantyEscrowFlg objectType  \\\n",
              "17              0         Бизнес                     1     normal   \n",
              "26              0        Типовой                     1     normal   \n",
              "27              0        Комфорт                     1     normal   \n",
              "28              0        Комфорт                     1     normal   \n",
              "29              0        Комфорт                     1     normal   \n",
              "\n",
              "    residentialBuildings  newBuildingId  objFloorCnt  objFlatCnt objFlatSq  \\\n",
              "17                     0         125859           23           0       0.0   \n",
              "26                     1         115219           17         114    6343.2   \n",
              "27                     1         122145           17          64    4032.0   \n",
              "28                     1         122147           14         120   5472.48   \n",
              "29                     1         122146           14          96    6048.0   \n",
              "\n",
              "    objNonlivElemCnt  objStatus  isAvailableWantLiveHere objTransferPlanDt  \\\n",
              "17               627          0                     True  16-06-2026 12:00   \n",
              "26                 9          0                     True  22-08-2023 12:00   \n",
              "27                 0          0                     True  30-09-2024 12:00   \n",
              "28                 0          0                     True  30-09-2024 12:00   \n",
              "29                 0          0                     True  30-09-2024 12:00   \n",
              "\n",
              "    objInfrstrBicycleLaneFlg  objInfrstrPlaygrndCnt  objInfrstrSportGroundCnt  \\\n",
              "17                         1                    0.0                       0.0   \n",
              "26                         0                    0.0                       0.0   \n",
              "27                         0                    3.0                       3.0   \n",
              "28                         0                    3.0                       3.0   \n",
              "29                         0                    3.0                       3.0   \n",
              "\n",
              "    objInfrstrTrashAreaCnt  objInfrstrObjPrkngCnt  objInfrstrNotObjPrkngCnt  \\\n",
              "17                     0.0                    0.0                       0.0   \n",
              "26                     0.0                    0.0                       0.0   \n",
              "27                     4.0                   90.0                      28.0   \n",
              "28                     4.0                   90.0                      28.0   \n",
              "29                     4.0                   90.0                      28.0   \n",
              "\n",
              "    objInfrstrRampFlg  objInfrstrCurbLoweringFlg  objElevatorWheelchairCnt  \\\n",
              "17                  1                          1                       0.0   \n",
              "26                  1                          0                       0.0   \n",
              "27                  1                          1                       0.0   \n",
              "28                  1                          1                       0.0   \n",
              "29                  1                          1                       0.0   \n",
              "\n",
              "    objElevatorPassengerCnt  objElevatorCargoCnt  \\\n",
              "17                      0.0                  0.0   \n",
              "26                      1.0                  1.0   \n",
              "27                      1.0                  0.0   \n",
              "28                      1.0                  0.0   \n",
              "29                      2.0                  0.0   \n",
              "\n",
              "    objElevatorCargoPassengerCnt  soldOutPerc  objPriceAvg  nonlivFirstFloor  \\\n",
              "17                             8     0.000672     231772.0               1.0   \n",
              "26                             1     0.994437      45598.0               0.0   \n",
              "27                             1     1.000000     117612.0               0.0   \n",
              "28                             1     1.000000     135888.0               0.0   \n",
              "29                             2     0.977437     120123.0               0.0   \n",
              "\n",
              "    conclusion  objGreenHouseFlg objEnergyEffShortDesc  \\\n",
              "17       False                 0        Не нормируется   \n",
              "26       False                 0                     B   \n",
              "27        True                 0                     D   \n",
              "28        True                 0                     D   \n",
              "29        True                 0                     D   \n",
              "\n",
              "    infrastructureIndexValue objLivCeilingHeight  \\\n",
              "17                       8.0                 NaN   \n",
              "26                       3.0                 2,8   \n",
              "27                       4.0                 2,7   \n",
              "28                       4.0                 2,7   \n",
              "29                       4.0                 2,7   \n",
              "\n",
              "    quartography.objLivElem1KCnt  quartography.objLivElem2KCnt  \\\n",
              "17                           NaN                           NaN   \n",
              "26                          93.0                          15.0   \n",
              "27                           0.0                          32.0   \n",
              "28                          48.0                          72.0   \n",
              "29                           0.0                          48.0   \n",
              "\n",
              "    quartography.objLivElem3KCnt  quartography.objLivElem4KCnt  \\\n",
              "17                           NaN                           NaN   \n",
              "26                           6.0                           0.0   \n",
              "27                          32.0                           0.0   \n",
              "28                           0.0                           0.0   \n",
              "29                          48.0                           0.0   \n",
              "\n",
              "    quartography.objLivElemCnt  quartography.objLivElemEntrCnt  \\\n",
              "17                         NaN                             NaN   \n",
              "26                       114.0                             1.0   \n",
              "27                        64.0                             1.0   \n",
              "28                       120.0                             1.0   \n",
              "29                        96.0                             2.0   \n",
              "\n",
              "    quartography.objLivElemEntrFloorAvg transportDistIndex  \\\n",
              "17                                  NaN             5 / 10   \n",
              "26                                  9.0                NaN   \n",
              "27                                  4.0                NaN   \n",
              "28                                 10.0                NaN   \n",
              "29                                  4.0                NaN   \n",
              "\n",
              "    transportDistIndexValue  airQualityIndexValue  greenAreaIndexValue  \\\n",
              "17                      5.0                   NaN                  8.0   \n",
              "26                      NaN                   NaN                  NaN   \n",
              "27                      NaN                   NaN                  NaN   \n",
              "28                      NaN                   NaN                  NaN   \n",
              "29                      NaN                   NaN                  NaN   \n",
              "\n",
              "     ready_dt ready_year  \n",
              "17 2025-09-30       2025  \n",
              "26 2023-09-30       2023  \n",
              "27 2024-03-31       2024  \n",
              "28 2024-03-31       2024  \n",
              "29 2024-03-31       2024  "
            ],
            "text/html": [
              "\n",
              "  <div id=\"df-02587def-e5f5-4c04-93a3-70def970290c\" class=\"colab-df-container\">\n",
              "    <div>\n",
              "<style scoped>\n",
              "    .dataframe tbody tr th:only-of-type {\n",
              "        vertical-align: middle;\n",
              "    }\n",
              "\n",
              "    .dataframe tbody tr th {\n",
              "        vertical-align: top;\n",
              "    }\n",
              "\n",
              "    .dataframe thead th {\n",
              "        text-align: right;\n",
              "    }\n",
              "</style>\n",
              "<table border=\"1\" class=\"dataframe\">\n",
              "  <thead>\n",
              "    <tr style=\"text-align: right;\">\n",
              "      <th></th>\n",
              "      <th>id</th>\n",
              "      <th>hobjId</th>\n",
              "      <th>pdId</th>\n",
              "      <th>region</th>\n",
              "      <th>floorMin</th>\n",
              "      <th>floorMax</th>\n",
              "      <th>objElemLivingCnt</th>\n",
              "      <th>wallMaterialShortDesc</th>\n",
              "      <th>objLkFinishTypeDesc</th>\n",
              "      <th>objLkFreePlanDesc</th>\n",
              "      <th>objElemParkingCnt</th>\n",
              "      <th>objSquareLiving</th>\n",
              "      <th>rpdIssueDttm</th>\n",
              "      <th>objCompensFundFlg</th>\n",
              "      <th>objProblemFlg</th>\n",
              "      <th>objLkClassDesc</th>\n",
              "      <th>objGuarantyEscrowFlg</th>\n",
              "      <th>objectType</th>\n",
              "      <th>residentialBuildings</th>\n",
              "      <th>newBuildingId</th>\n",
              "      <th>objFloorCnt</th>\n",
              "      <th>objFlatCnt</th>\n",
              "      <th>objFlatSq</th>\n",
              "      <th>objNonlivElemCnt</th>\n",
              "      <th>objStatus</th>\n",
              "      <th>isAvailableWantLiveHere</th>\n",
              "      <th>objTransferPlanDt</th>\n",
              "      <th>objInfrstrBicycleLaneFlg</th>\n",
              "      <th>objInfrstrPlaygrndCnt</th>\n",
              "      <th>objInfrstrSportGroundCnt</th>\n",
              "      <th>objInfrstrTrashAreaCnt</th>\n",
              "      <th>objInfrstrObjPrkngCnt</th>\n",
              "      <th>objInfrstrNotObjPrkngCnt</th>\n",
              "      <th>objInfrstrRampFlg</th>\n",
              "      <th>objInfrstrCurbLoweringFlg</th>\n",
              "      <th>objElevatorWheelchairCnt</th>\n",
              "      <th>objElevatorPassengerCnt</th>\n",
              "      <th>objElevatorCargoCnt</th>\n",
              "      <th>objElevatorCargoPassengerCnt</th>\n",
              "      <th>soldOutPerc</th>\n",
              "      <th>objPriceAvg</th>\n",
              "      <th>nonlivFirstFloor</th>\n",
              "      <th>conclusion</th>\n",
              "      <th>objGreenHouseFlg</th>\n",
              "      <th>objEnergyEffShortDesc</th>\n",
              "      <th>infrastructureIndexValue</th>\n",
              "      <th>objLivCeilingHeight</th>\n",
              "      <th>quartography.objLivElem1KCnt</th>\n",
              "      <th>quartography.objLivElem2KCnt</th>\n",
              "      <th>quartography.objLivElem3KCnt</th>\n",
              "      <th>quartography.objLivElem4KCnt</th>\n",
              "      <th>quartography.objLivElemCnt</th>\n",
              "      <th>quartography.objLivElemEntrCnt</th>\n",
              "      <th>quartography.objLivElemEntrFloorAvg</th>\n",
              "      <th>transportDistIndex</th>\n",
              "      <th>transportDistIndexValue</th>\n",
              "      <th>airQualityIndexValue</th>\n",
              "      <th>greenAreaIndexValue</th>\n",
              "      <th>ready_dt</th>\n",
              "      <th>ready_year</th>\n",
              "    </tr>\n",
              "  </thead>\n",
              "  <tbody>\n",
              "    <tr>\n",
              "      <th>17</th>\n",
              "      <td>45249</td>\n",
              "      <td>125859</td>\n",
              "      <td>530733</td>\n",
              "      <td>77</td>\n",
              "      <td>2</td>\n",
              "      <td>23</td>\n",
              "      <td>0</td>\n",
              "      <td>Монолит-кирпич</td>\n",
              "      <td>Под ключ</td>\n",
              "      <td>Нет</td>\n",
              "      <td>389</td>\n",
              "      <td>0.00</td>\n",
              "      <td>08-11-2023 14:55</td>\n",
              "      <td>0</td>\n",
              "      <td>0</td>\n",
              "      <td>Бизнес</td>\n",
              "      <td>1</td>\n",
              "      <td>normal</td>\n",
              "      <td>0</td>\n",
              "      <td>125859</td>\n",
              "      <td>23</td>\n",
              "      <td>0</td>\n",
              "      <td>0.0</td>\n",
              "      <td>627</td>\n",
              "      <td>0</td>\n",
              "      <td>True</td>\n",
              "      <td>16-06-2026 12:00</td>\n",
              "      <td>1</td>\n",
              "      <td>0.0</td>\n",
              "      <td>0.0</td>\n",
              "      <td>0.0</td>\n",
              "      <td>0.0</td>\n",
              "      <td>0.0</td>\n",
              "      <td>1</td>\n",
              "      <td>1</td>\n",
              "      <td>0.0</td>\n",
              "      <td>0.0</td>\n",
              "      <td>0.0</td>\n",
              "      <td>8</td>\n",
              "      <td>0.000672</td>\n",
              "      <td>231772.0</td>\n",
              "      <td>1.0</td>\n",
              "      <td>False</td>\n",
              "      <td>0</td>\n",
              "      <td>Не нормируется</td>\n",
              "      <td>8.0</td>\n",
              "      <td>NaN</td>\n",
              "      <td>NaN</td>\n",
              "      <td>NaN</td>\n",
              "      <td>NaN</td>\n",
              "      <td>NaN</td>\n",
              "      <td>NaN</td>\n",
              "      <td>NaN</td>\n",
              "      <td>NaN</td>\n",
              "      <td>5 / 10</td>\n",
              "      <td>5.0</td>\n",
              "      <td>NaN</td>\n",
              "      <td>8.0</td>\n",
              "      <td>2025-09-30</td>\n",
              "      <td>2025</td>\n",
              "    </tr>\n",
              "    <tr>\n",
              "      <th>26</th>\n",
              "      <td>35324</td>\n",
              "      <td>115219</td>\n",
              "      <td>290662</td>\n",
              "      <td>23</td>\n",
              "      <td>17</td>\n",
              "      <td>17</td>\n",
              "      <td>114</td>\n",
              "      <td>Монолит-кирпич</td>\n",
              "      <td>Без отделки</td>\n",
              "      <td>Нет</td>\n",
              "      <td>0</td>\n",
              "      <td>6343.20</td>\n",
              "      <td>10-08-2023 14:15</td>\n",
              "      <td>0</td>\n",
              "      <td>0</td>\n",
              "      <td>Типовой</td>\n",
              "      <td>1</td>\n",
              "      <td>normal</td>\n",
              "      <td>1</td>\n",
              "      <td>115219</td>\n",
              "      <td>17</td>\n",
              "      <td>114</td>\n",
              "      <td>6343.2</td>\n",
              "      <td>9</td>\n",
              "      <td>0</td>\n",
              "      <td>True</td>\n",
              "      <td>22-08-2023 12:00</td>\n",
              "      <td>0</td>\n",
              "      <td>0.0</td>\n",
              "      <td>0.0</td>\n",
              "      <td>0.0</td>\n",
              "      <td>0.0</td>\n",
              "      <td>0.0</td>\n",
              "      <td>1</td>\n",
              "      <td>0</td>\n",
              "      <td>0.0</td>\n",
              "      <td>1.0</td>\n",
              "      <td>1.0</td>\n",
              "      <td>1</td>\n",
              "      <td>0.994437</td>\n",
              "      <td>45598.0</td>\n",
              "      <td>0.0</td>\n",
              "      <td>False</td>\n",
              "      <td>0</td>\n",
              "      <td>B</td>\n",
              "      <td>3.0</td>\n",
              "      <td>2,8</td>\n",
              "      <td>93.0</td>\n",
              "      <td>15.0</td>\n",
              "      <td>6.0</td>\n",
              "      <td>0.0</td>\n",
              "      <td>114.0</td>\n",
              "      <td>1.0</td>\n",
              "      <td>9.0</td>\n",
              "      <td>NaN</td>\n",
              "      <td>NaN</td>\n",
              "      <td>NaN</td>\n",
              "      <td>NaN</td>\n",
              "      <td>2023-09-30</td>\n",
              "      <td>2023</td>\n",
              "    </tr>\n",
              "    <tr>\n",
              "      <th>27</th>\n",
              "      <td>41621</td>\n",
              "      <td>122145</td>\n",
              "      <td>472265</td>\n",
              "      <td>23</td>\n",
              "      <td>17</td>\n",
              "      <td>17</td>\n",
              "      <td>64</td>\n",
              "      <td>Монолит-кирпич</td>\n",
              "      <td>Под чистовую</td>\n",
              "      <td>Нет</td>\n",
              "      <td>0</td>\n",
              "      <td>4032.00</td>\n",
              "      <td>06-12-2023 10:01</td>\n",
              "      <td>0</td>\n",
              "      <td>0</td>\n",
              "      <td>Комфорт</td>\n",
              "      <td>1</td>\n",
              "      <td>normal</td>\n",
              "      <td>1</td>\n",
              "      <td>122145</td>\n",
              "      <td>17</td>\n",
              "      <td>64</td>\n",
              "      <td>4032.0</td>\n",
              "      <td>0</td>\n",
              "      <td>0</td>\n",
              "      <td>True</td>\n",
              "      <td>30-09-2024 12:00</td>\n",
              "      <td>0</td>\n",
              "      <td>3.0</td>\n",
              "      <td>3.0</td>\n",
              "      <td>4.0</td>\n",
              "      <td>90.0</td>\n",
              "      <td>28.0</td>\n",
              "      <td>1</td>\n",
              "      <td>1</td>\n",
              "      <td>0.0</td>\n",
              "      <td>1.0</td>\n",
              "      <td>0.0</td>\n",
              "      <td>1</td>\n",
              "      <td>1.000000</td>\n",
              "      <td>117612.0</td>\n",
              "      <td>0.0</td>\n",
              "      <td>True</td>\n",
              "      <td>0</td>\n",
              "      <td>D</td>\n",
              "      <td>4.0</td>\n",
              "      <td>2,7</td>\n",
              "      <td>0.0</td>\n",
              "      <td>32.0</td>\n",
              "      <td>32.0</td>\n",
              "      <td>0.0</td>\n",
              "      <td>64.0</td>\n",
              "      <td>1.0</td>\n",
              "      <td>4.0</td>\n",
              "      <td>NaN</td>\n",
              "      <td>NaN</td>\n",
              "      <td>NaN</td>\n",
              "      <td>NaN</td>\n",
              "      <td>2024-03-31</td>\n",
              "      <td>2024</td>\n",
              "    </tr>\n",
              "    <tr>\n",
              "      <th>28</th>\n",
              "      <td>41619</td>\n",
              "      <td>122147</td>\n",
              "      <td>472265</td>\n",
              "      <td>23</td>\n",
              "      <td>14</td>\n",
              "      <td>14</td>\n",
              "      <td>120</td>\n",
              "      <td>Монолит-кирпич</td>\n",
              "      <td>Под чистовую</td>\n",
              "      <td>Нет</td>\n",
              "      <td>0</td>\n",
              "      <td>5472.48</td>\n",
              "      <td>06-12-2023 10:01</td>\n",
              "      <td>0</td>\n",
              "      <td>0</td>\n",
              "      <td>Комфорт</td>\n",
              "      <td>1</td>\n",
              "      <td>normal</td>\n",
              "      <td>1</td>\n",
              "      <td>122147</td>\n",
              "      <td>14</td>\n",
              "      <td>120</td>\n",
              "      <td>5472.48</td>\n",
              "      <td>0</td>\n",
              "      <td>0</td>\n",
              "      <td>True</td>\n",
              "      <td>30-09-2024 12:00</td>\n",
              "      <td>0</td>\n",
              "      <td>3.0</td>\n",
              "      <td>3.0</td>\n",
              "      <td>4.0</td>\n",
              "      <td>90.0</td>\n",
              "      <td>28.0</td>\n",
              "      <td>1</td>\n",
              "      <td>1</td>\n",
              "      <td>0.0</td>\n",
              "      <td>1.0</td>\n",
              "      <td>0.0</td>\n",
              "      <td>1</td>\n",
              "      <td>1.000000</td>\n",
              "      <td>135888.0</td>\n",
              "      <td>0.0</td>\n",
              "      <td>True</td>\n",
              "      <td>0</td>\n",
              "      <td>D</td>\n",
              "      <td>4.0</td>\n",
              "      <td>2,7</td>\n",
              "      <td>48.0</td>\n",
              "      <td>72.0</td>\n",
              "      <td>0.0</td>\n",
              "      <td>0.0</td>\n",
              "      <td>120.0</td>\n",
              "      <td>1.0</td>\n",
              "      <td>10.0</td>\n",
              "      <td>NaN</td>\n",
              "      <td>NaN</td>\n",
              "      <td>NaN</td>\n",
              "      <td>NaN</td>\n",
              "      <td>2024-03-31</td>\n",
              "      <td>2024</td>\n",
              "    </tr>\n",
              "    <tr>\n",
              "      <th>29</th>\n",
              "      <td>41620</td>\n",
              "      <td>122146</td>\n",
              "      <td>472265</td>\n",
              "      <td>23</td>\n",
              "      <td>14</td>\n",
              "      <td>14</td>\n",
              "      <td>96</td>\n",
              "      <td>Монолит-кирпич</td>\n",
              "      <td>Под чистовую</td>\n",
              "      <td>Нет</td>\n",
              "      <td>0</td>\n",
              "      <td>6048.00</td>\n",
              "      <td>06-12-2023 10:01</td>\n",
              "      <td>0</td>\n",
              "      <td>0</td>\n",
              "      <td>Комфорт</td>\n",
              "      <td>1</td>\n",
              "      <td>normal</td>\n",
              "      <td>1</td>\n",
              "      <td>122146</td>\n",
              "      <td>14</td>\n",
              "      <td>96</td>\n",
              "      <td>6048.0</td>\n",
              "      <td>0</td>\n",
              "      <td>0</td>\n",
              "      <td>True</td>\n",
              "      <td>30-09-2024 12:00</td>\n",
              "      <td>0</td>\n",
              "      <td>3.0</td>\n",
              "      <td>3.0</td>\n",
              "      <td>4.0</td>\n",
              "      <td>90.0</td>\n",
              "      <td>28.0</td>\n",
              "      <td>1</td>\n",
              "      <td>1</td>\n",
              "      <td>0.0</td>\n",
              "      <td>2.0</td>\n",
              "      <td>0.0</td>\n",
              "      <td>2</td>\n",
              "      <td>0.977437</td>\n",
              "      <td>120123.0</td>\n",
              "      <td>0.0</td>\n",
              "      <td>True</td>\n",
              "      <td>0</td>\n",
              "      <td>D</td>\n",
              "      <td>4.0</td>\n",
              "      <td>2,7</td>\n",
              "      <td>0.0</td>\n",
              "      <td>48.0</td>\n",
              "      <td>48.0</td>\n",
              "      <td>0.0</td>\n",
              "      <td>96.0</td>\n",
              "      <td>2.0</td>\n",
              "      <td>4.0</td>\n",
              "      <td>NaN</td>\n",
              "      <td>NaN</td>\n",
              "      <td>NaN</td>\n",
              "      <td>NaN</td>\n",
              "      <td>2024-03-31</td>\n",
              "      <td>2024</td>\n",
              "    </tr>\n",
              "  </tbody>\n",
              "</table>\n",
              "</div>\n",
              "    <div class=\"colab-df-buttons\">\n",
              "\n",
              "  <div class=\"colab-df-container\">\n",
              "    <button class=\"colab-df-convert\" onclick=\"convertToInteractive('df-02587def-e5f5-4c04-93a3-70def970290c')\"\n",
              "            title=\"Convert this dataframe to an interactive table.\"\n",
              "            style=\"display:none;\">\n",
              "\n",
              "  <svg xmlns=\"http://www.w3.org/2000/svg\" height=\"24px\" viewBox=\"0 -960 960 960\">\n",
              "    <path d=\"M120-120v-720h720v720H120Zm60-500h600v-160H180v160Zm220 220h160v-160H400v160Zm0 220h160v-160H400v160ZM180-400h160v-160H180v160Zm440 0h160v-160H620v160ZM180-180h160v-160H180v160Zm440 0h160v-160H620v160Z\"/>\n",
              "  </svg>\n",
              "    </button>\n",
              "\n",
              "  <style>\n",
              "    .colab-df-container {\n",
              "      display:flex;\n",
              "      gap: 12px;\n",
              "    }\n",
              "\n",
              "    .colab-df-convert {\n",
              "      background-color: #E8F0FE;\n",
              "      border: none;\n",
              "      border-radius: 50%;\n",
              "      cursor: pointer;\n",
              "      display: none;\n",
              "      fill: #1967D2;\n",
              "      height: 32px;\n",
              "      padding: 0 0 0 0;\n",
              "      width: 32px;\n",
              "    }\n",
              "\n",
              "    .colab-df-convert:hover {\n",
              "      background-color: #E2EBFA;\n",
              "      box-shadow: 0px 1px 2px rgba(60, 64, 67, 0.3), 0px 1px 3px 1px rgba(60, 64, 67, 0.15);\n",
              "      fill: #174EA6;\n",
              "    }\n",
              "\n",
              "    .colab-df-buttons div {\n",
              "      margin-bottom: 4px;\n",
              "    }\n",
              "\n",
              "    [theme=dark] .colab-df-convert {\n",
              "      background-color: #3B4455;\n",
              "      fill: #D2E3FC;\n",
              "    }\n",
              "\n",
              "    [theme=dark] .colab-df-convert:hover {\n",
              "      background-color: #434B5C;\n",
              "      box-shadow: 0px 1px 3px 1px rgba(0, 0, 0, 0.15);\n",
              "      filter: drop-shadow(0px 1px 2px rgba(0, 0, 0, 0.3));\n",
              "      fill: #FFFFFF;\n",
              "    }\n",
              "  </style>\n",
              "\n",
              "    <script>\n",
              "      const buttonEl =\n",
              "        document.querySelector('#df-02587def-e5f5-4c04-93a3-70def970290c button.colab-df-convert');\n",
              "      buttonEl.style.display =\n",
              "        google.colab.kernel.accessAllowed ? 'block' : 'none';\n",
              "\n",
              "      async function convertToInteractive(key) {\n",
              "        const element = document.querySelector('#df-02587def-e5f5-4c04-93a3-70def970290c');\n",
              "        const dataTable =\n",
              "          await google.colab.kernel.invokeFunction('convertToInteractive',\n",
              "                                                    [key], {});\n",
              "        if (!dataTable) return;\n",
              "\n",
              "        const docLinkHtml = 'Like what you see? Visit the ' +\n",
              "          '<a target=\"_blank\" href=https://colab.research.google.com/notebooks/data_table.ipynb>data table notebook</a>'\n",
              "          + ' to learn more about interactive tables.';\n",
              "        element.innerHTML = '';\n",
              "        dataTable['output_type'] = 'display_data';\n",
              "        await google.colab.output.renderOutput(dataTable, element);\n",
              "        const docLink = document.createElement('div');\n",
              "        docLink.innerHTML = docLinkHtml;\n",
              "        element.appendChild(docLink);\n",
              "      }\n",
              "    </script>\n",
              "  </div>\n",
              "\n",
              "\n",
              "<div id=\"df-03379784-b8c5-44b2-904d-fbf29dfd7788\">\n",
              "  <button class=\"colab-df-quickchart\" onclick=\"quickchart('df-03379784-b8c5-44b2-904d-fbf29dfd7788')\"\n",
              "            title=\"Suggest charts\"\n",
              "            style=\"display:none;\">\n",
              "\n",
              "<svg xmlns=\"http://www.w3.org/2000/svg\" height=\"24px\"viewBox=\"0 0 24 24\"\n",
              "     width=\"24px\">\n",
              "    <g>\n",
              "        <path d=\"M19 3H5c-1.1 0-2 .9-2 2v14c0 1.1.9 2 2 2h14c1.1 0 2-.9 2-2V5c0-1.1-.9-2-2-2zM9 17H7v-7h2v7zm4 0h-2V7h2v10zm4 0h-2v-4h2v4z\"/>\n",
              "    </g>\n",
              "</svg>\n",
              "  </button>\n",
              "\n",
              "<style>\n",
              "  .colab-df-quickchart {\n",
              "      --bg-color: #E8F0FE;\n",
              "      --fill-color: #1967D2;\n",
              "      --hover-bg-color: #E2EBFA;\n",
              "      --hover-fill-color: #174EA6;\n",
              "      --disabled-fill-color: #AAA;\n",
              "      --disabled-bg-color: #DDD;\n",
              "  }\n",
              "\n",
              "  [theme=dark] .colab-df-quickchart {\n",
              "      --bg-color: #3B4455;\n",
              "      --fill-color: #D2E3FC;\n",
              "      --hover-bg-color: #434B5C;\n",
              "      --hover-fill-color: #FFFFFF;\n",
              "      --disabled-bg-color: #3B4455;\n",
              "      --disabled-fill-color: #666;\n",
              "  }\n",
              "\n",
              "  .colab-df-quickchart {\n",
              "    background-color: var(--bg-color);\n",
              "    border: none;\n",
              "    border-radius: 50%;\n",
              "    cursor: pointer;\n",
              "    display: none;\n",
              "    fill: var(--fill-color);\n",
              "    height: 32px;\n",
              "    padding: 0;\n",
              "    width: 32px;\n",
              "  }\n",
              "\n",
              "  .colab-df-quickchart:hover {\n",
              "    background-color: var(--hover-bg-color);\n",
              "    box-shadow: 0 1px 2px rgba(60, 64, 67, 0.3), 0 1px 3px 1px rgba(60, 64, 67, 0.15);\n",
              "    fill: var(--button-hover-fill-color);\n",
              "  }\n",
              "\n",
              "  .colab-df-quickchart-complete:disabled,\n",
              "  .colab-df-quickchart-complete:disabled:hover {\n",
              "    background-color: var(--disabled-bg-color);\n",
              "    fill: var(--disabled-fill-color);\n",
              "    box-shadow: none;\n",
              "  }\n",
              "\n",
              "  .colab-df-spinner {\n",
              "    border: 2px solid var(--fill-color);\n",
              "    border-color: transparent;\n",
              "    border-bottom-color: var(--fill-color);\n",
              "    animation:\n",
              "      spin 1s steps(1) infinite;\n",
              "  }\n",
              "\n",
              "  @keyframes spin {\n",
              "    0% {\n",
              "      border-color: transparent;\n",
              "      border-bottom-color: var(--fill-color);\n",
              "      border-left-color: var(--fill-color);\n",
              "    }\n",
              "    20% {\n",
              "      border-color: transparent;\n",
              "      border-left-color: var(--fill-color);\n",
              "      border-top-color: var(--fill-color);\n",
              "    }\n",
              "    30% {\n",
              "      border-color: transparent;\n",
              "      border-left-color: var(--fill-color);\n",
              "      border-top-color: var(--fill-color);\n",
              "      border-right-color: var(--fill-color);\n",
              "    }\n",
              "    40% {\n",
              "      border-color: transparent;\n",
              "      border-right-color: var(--fill-color);\n",
              "      border-top-color: var(--fill-color);\n",
              "    }\n",
              "    60% {\n",
              "      border-color: transparent;\n",
              "      border-right-color: var(--fill-color);\n",
              "    }\n",
              "    80% {\n",
              "      border-color: transparent;\n",
              "      border-right-color: var(--fill-color);\n",
              "      border-bottom-color: var(--fill-color);\n",
              "    }\n",
              "    90% {\n",
              "      border-color: transparent;\n",
              "      border-bottom-color: var(--fill-color);\n",
              "    }\n",
              "  }\n",
              "</style>\n",
              "\n",
              "  <script>\n",
              "    async function quickchart(key) {\n",
              "      const quickchartButtonEl =\n",
              "        document.querySelector('#' + key + ' button');\n",
              "      quickchartButtonEl.disabled = true;  // To prevent multiple clicks.\n",
              "      quickchartButtonEl.classList.add('colab-df-spinner');\n",
              "      try {\n",
              "        const charts = await google.colab.kernel.invokeFunction(\n",
              "            'suggestCharts', [key], {});\n",
              "      } catch (error) {\n",
              "        console.error('Error during call to suggestCharts:', error);\n",
              "      }\n",
              "      quickchartButtonEl.classList.remove('colab-df-spinner');\n",
              "      quickchartButtonEl.classList.add('colab-df-quickchart-complete');\n",
              "    }\n",
              "    (() => {\n",
              "      let quickchartButtonEl =\n",
              "        document.querySelector('#df-03379784-b8c5-44b2-904d-fbf29dfd7788 button');\n",
              "      quickchartButtonEl.style.display =\n",
              "        google.colab.kernel.accessAllowed ? 'block' : 'none';\n",
              "    })();\n",
              "  </script>\n",
              "</div>\n",
              "    </div>\n",
              "  </div>\n"
            ],
            "application/vnd.google.colaboratory.intrinsic+json": {
              "type": "dataframe",
              "variable_name": "df"
            }
          },
          "metadata": {},
          "execution_count": 92
        }
      ]
    },
    {
      "cell_type": "code",
      "source": [
        "df_mean = df.groupby('region')['objPriceAvg'].mean()\n",
        "rcParams['figure.figsize'] = 10,2\n",
        "df_mean.plot(kind='barh')\n",
        "plt.show()\n",
        "df_mean"
      ],
      "metadata": {
        "colab": {
          "base_uri": "https://localhost:8080/",
          "height": 321
        },
        "id": "75qH3ZyvW527",
        "outputId": "fa11d9e3-d2bc-4f8e-c128-9995c6d3ee1a"
      },
      "execution_count": 101,
      "outputs": [
        {
          "output_type": "execute_result",
          "data": {
            "text/plain": [
              "<Axes: ylabel='region'>"
            ]
          },
          "metadata": {},
          "execution_count": 101
        },
        {
          "output_type": "display_data",
          "data": {
            "text/plain": [
              "<Figure size 1000x200 with 1 Axes>"
            ],
            "image/png": "[encoded data removed]"
          },
          "metadata": {}
        },
        {
          "output_type": "execute_result",
          "data": {
            "text/plain": [
              "region\n",
              "23    162334.729345\n",
              "77    380934.022152\n",
              "Name: objPriceAvg, dtype: float64"
            ]
          },
          "metadata": {},
          "execution_count": 101
        }
      ]
    },
    {
      "cell_type": "markdown",
      "source": [
        "Кв. метр в 77 регионе дороже чем в 23, что логично. В столице недвижимость дороже"
      ],
      "metadata": {
        "id": "gBqOPa2PZSrV"
      }
    },
    {
      "cell_type": "code",
      "source": [
        "df_houses = df.groupby('region')['id'].count().sort_values(ascending=True)\n",
        "df_houses.head()\n",
        "rcParams['figure.figsize'] = 10,2\n",
        "df_houses.plot(kind='barh')\n",
        "plt.show()"
      ],
      "metadata": {
        "colab": {
          "base_uri": "https://localhost:8080/",
          "height": 321
        },
        "id": "eh7d3pw7ZAc_",
        "outputId": "850e1c40-6860-4b82-fa93-4862b6dba478"
      },
      "execution_count": 90,
      "outputs": [
        {
          "output_type": "execute_result",
          "data": {
            "text/plain": [
              "region\n",
              "77     888\n",
              "23    1112\n",
              "Name: id, dtype: int64"
            ]
          },
          "metadata": {},
          "execution_count": 90
        },
        {
          "output_type": "execute_result",
          "data": {
            "text/plain": [
              "<Axes: ylabel='region'>"
            ]
          },
          "metadata": {},
          "execution_count": 90
        },
        {
          "output_type": "display_data",
          "data": {
            "text/plain": [
              "<Figure size 1000x200 with 1 Axes>"
            ],
            "image/png": "[encoded data removed]"
          },
          "metadata": {}
        }
      ]
    },
    {
      "cell_type": "markdown",
      "source": [
        "Кол-во вводимого жилья в 77 регионе меньше чем в 23. Краснодарский край застраивается активнее"
      ],
      "metadata": {
        "id": "7Lk78cPDZqpH"
      }
    },
    {
      "cell_type": "code",
      "source": [
        "df_houses = df.groupby(['region', 'ready_year'])['id'].count()\n",
        "df_houses.head()\n",
        "rcParams['figure.figsize'] = 10, 5\n",
        "df_houses.plot(kind='barh')\n",
        "plt.show()"
      ],
      "metadata": {
        "colab": {
          "base_uri": "https://localhost:8080/",
          "height": 604
        },
        "id": "lxGVXOlEZ32u",
        "outputId": "1e9b4196-9258-47af-c131-b72d603d193c"
      },
      "execution_count": 98,
      "outputs": [
        {
          "output_type": "execute_result",
          "data": {
            "text/plain": [
              "region  ready_year\n",
              "23      2021            1\n",
              "        2022            1\n",
              "        2023           75\n",
              "        2024          295\n",
              "        2025          386\n",
              "Name: id, dtype: int64"
            ]
          },
          "metadata": {},
          "execution_count": 98
        },
        {
          "output_type": "execute_result",
          "data": {
            "text/plain": [
              "<Axes: ylabel='region,ready_year'>"
            ]
          },
          "metadata": {},
          "execution_count": 98
        },
        {
          "output_type": "display_data",
          "data": {
            "text/plain": [
              "<Figure size 1000x500 with 1 Axes>"
            ],
            "image/png": "[encoded data removed]"
          },
          "metadata": {}
        }
      ]
    },
    {
      "cell_type": "markdown",
      "source": [
        "Видно, что в 2024 и 2025 больше всего вводимого жилья. Возможно, это связано со льготными ипотечными программами"
      ],
      "metadata": {
        "id": "GoEDedDrciqw"
      }
    },
    {
      "cell_type": "code",
      "source": [
        "df_mean = df.groupby('region')['floorMax'].mean()\n",
        "rcParams['figure.figsize'] = 10,2\n",
        "df_mean.plot(kind='barh')\n",
        "plt.show()\n",
        "df_mean"
      ],
      "metadata": {
        "colab": {
          "base_uri": "https://localhost:8080/",
          "height": 321
        },
        "id": "_sn2GO82e652",
        "outputId": "064b4033-c767-417a-9eda-4306bea94a3e"
      },
      "execution_count": 100,
      "outputs": [
        {
          "output_type": "execute_result",
          "data": {
            "text/plain": [
              "<Axes: ylabel='region'>"
            ]
          },
          "metadata": {},
          "execution_count": 100
        },
        {
          "output_type": "display_data",
          "data": {
            "text/plain": [
              "<Figure size 1000x200 with 1 Axes>"
            ],
            "image/png": "[encoded data removed]"
          },
          "metadata": {}
        },
        {
          "output_type": "execute_result",
          "data": {
            "text/plain": [
              "region\n",
              "23    10.726619\n",
              "77    18.682432\n",
              "Name: floorMax, dtype: float64"
            ]
          },
          "metadata": {},
          "execution_count": 100
        }
      ]
    },
    {
      "cell_type": "markdown",
      "source": [
        "В среднем этажность в Москве в новостройках больше чем в Краснодарском крае."
      ],
      "metadata": {
        "id": "YEOk7XwyhCw0"
      }
    }
  ]
}